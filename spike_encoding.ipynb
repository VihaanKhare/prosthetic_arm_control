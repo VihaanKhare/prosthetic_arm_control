{
 "cells": [
  {
   "cell_type": "code",
   "execution_count": 2,
   "id": "ed9c6c0e-97ea-499d-b923-0c9822c0ed2b",
   "metadata": {},
   "outputs": [
    {
     "name": "stdout",
     "output_type": "stream",
     "text": [
      "✅ Done: Encoded all windows!\n",
      "Spike trains shape: (3635, 200, 8)\n",
      "Labels shape: (3635,)\n"
     ]
    }
   ],
   "source": [
    "import numpy as np\n",
    "\n",
    "# Load preprocessed data\n",
    "X = np.load(\"X.npy\")      # Shape: (3635, 200, 8)\n",
    "y = np.load(\"y.npy\")      # Shape: (3635,)\n",
    "\n",
    "# Define parameters\n",
    "threshold = 0.5  # adjust depending on signal amplitude\n",
    "spike_trains = []\n",
    "\n",
    "# Convert every 200ms EMG window to spikes\n",
    "for window in X:\n",
    "    spikes = (window > threshold).astype(int)  # rate coding: 1 = spike\n",
    "    spike_trains.append(spikes)\n",
    "\n",
    "spike_trains = np.array(spike_trains, dtype=np.uint8)\n",
    "\n",
    "# Save aligned outputs\n",
    "np.save(\"spike_trains.npy\", spike_trains)\n",
    "np.save(\"labels.npy\", y)\n",
    "\n",
    "print(\"✅ Done: Encoded all windows!\")\n",
    "print(\"Spike trains shape:\", spike_trains.shape)\n",
    "print(\"Labels shape:\", y.shape)\n"
   ]
  }
 ],
 "metadata": {
  "kernelspec": {
   "display_name": "Python 3 (ipykernel)",
   "language": "python",
   "name": "python3"
  },
  "language_info": {
   "codemirror_mode": {
    "name": "ipython",
    "version": 3
   },
   "file_extension": ".py",
   "mimetype": "text/x-python",
   "name": "python",
   "nbconvert_exporter": "python",
   "pygments_lexer": "ipython3",
   "version": "3.13.1"
  }
 },
 "nbformat": 4,
 "nbformat_minor": 5
}
