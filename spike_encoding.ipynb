{
 "cells": [
  {
   "cell_type": "code",
   "execution_count": 4,
   "id": "ed9c6c0e-97ea-499d-b923-0c9822c0ed2b",
   "metadata": {},
   "outputs": [
    {
     "name": "stdout",
     "output_type": "stream",
     "text": [
      "Saved: spike_trains.npy and labels.npy\n"
     ]
    }
   ],
   "source": [
    "import numpy as np\n",
    "\n",
    "# --- Load the preprocessed dataset ---\n",
    "X = np.load('X.npy')  # shape: (num_samples, time_steps, num_channels)\n",
    "y = np.load('y.npy')  # labels\n",
    "\n",
    "print(f\"Loaded data: {X.shape}, labels: {y.shape}\")\n",
    "\n",
    "# --- Rate Coding Function ---\n",
    "def rate_code(sample, threshold=0.5):\n",
    "    \"\"\"\n",
    "    Converts an EMG sample (time x channels) into spike train using rate coding.\n",
    "    Higher EMG amplitude → higher spike probability.\n",
    "    \"\"\"\n",
    "    # Normalize to [0,1]\n",
    "    norm_sample = (sample - sample.min()) / (sample.max() - sample.min() + 1e-8)\n",
    "    \n",
    "    # Generate spikes probabilistically\n",
    "    spikes = np.random.rand(*norm_sample.shape) < norm_sample * threshold\n",
    "    return spikes.astype(np.float32)\n",
    "\n",
    "# --- Convert all samples ---\n",
    "spike_trains = np.array([rate_code(x) for x in X], dtype=np.float32)\n",
    "\n",
    "print(f\"✅ Spike encoding complete: {spike_trains.shape}\")\n",
    "np.save('spikes.npy', spike_trains)\n",
    "print(\"Saved spike_trains as spikes.npy\")\n"
   ]
  }
 ],
 "metadata": {
  "kernelspec": {
   "display_name": "Python 3 (ipykernel)",
   "language": "python",
   "name": "python3"
  },
  "language_info": {
   "codemirror_mode": {
    "name": "ipython",
    "version": 3
   },
   "file_extension": ".py",
   "mimetype": "text/x-python",
   "name": "python",
   "nbconvert_exporter": "python",
   "pygments_lexer": "ipython3",
   "version": "3.13.1"
  }
 },
 "nbformat": 4,
 "nbformat_minor": 5
}
